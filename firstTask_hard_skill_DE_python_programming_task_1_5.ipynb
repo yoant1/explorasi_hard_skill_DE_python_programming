{
  "nbformat": 4,
  "nbformat_minor": 0,
  "metadata": {
    "colab": {
      "provenance": [],
      "authorship_tag": "ABX9TyPOS9CORS/rICV5XY07sfSg",
      "include_colab_link": true
    },
    "kernelspec": {
      "name": "python3",
      "display_name": "Python 3"
    },
    "language_info": {
      "name": "python"
    }
  },
  "cells": [
    {
      "cell_type": "markdown",
      "metadata": {
        "id": "view-in-github",
        "colab_type": "text"
      },
      "source": [
        "<a href=\"https://colab.research.google.com/github/yoant1/explorasi_hard_skill_DE_python_programming/blob/main/firstTask_hard_skill_DE_python_programming_task_1_5.ipynb\" target=\"_parent\"><img src=\"https://colab.research.google.com/assets/colab-badge.svg\" alt=\"Open In Colab\"/></a>"
      ]
    },
    {
      "cell_type": "code",
      "execution_count": null,
      "metadata": {
        "colab": {
          "base_uri": "https://localhost:8080/"
        },
        "id": "cWmNzHpVBGoV",
        "outputId": "418561b1-ab3f-4f79-ffb1-65223653aeff"
      },
      "outputs": [
        {
          "output_type": "stream",
          "name": "stdout",
          "text": [
            "[{'Order ID': 'ORD001', 'Customer Name': 'yoan fitria', 'Order Date': '2025-07-06', 'Total Amount': 150.0}, {'Order ID': 'ORD002', 'Customer Name': 'AMIRA PUTRI', 'Order Date': '2025-07-07', 'Total Amount': 250.5}]\n"
          ]
        }
      ],
      "source": [
        "# Task 1\n",
        "data_pesanan = [\n",
        "    {\n",
        "        \"Order ID\": \"ORD001\",\n",
        "        \"Customer Name\": \"yoan fitria\",\n",
        "        \"Order Date\": \"2025-07-06\",\n",
        "        \"Total Amount\": 150.0\n",
        "    },\n",
        "    {\n",
        "        \"Order ID\": \"ORD002\",\n",
        "        \"Customer Name\": \"AMIRA PUTRI\",\n",
        "        \"Order Date\": \"2025-07-07\",\n",
        "        \"Total Amount\": 250.5\n",
        "    }\n",
        "]\n",
        "print (data_pesanan)"
      ]
    },
    {
      "cell_type": "code",
      "source": [
        "# Task 1\n",
        "data_pesanan = [\n",
        "    {\n",
        "        \"Order ID\": \"ORD001\",\n",
        "        \"Customer Name\": \"yoan fitria\",\n",
        "        \"Order Date\": \"2025-07-06\",\n",
        "        \"Total Amount\": 150.0\n",
        "    },\n",
        "    {\n",
        "        \"Order ID\": \"ORD002\",\n",
        "        \"Customer Name\": \"AMIRA PUTRI\",\n",
        "        \"Order Date\": \"2025-07-07\",\n",
        "        \"Total Amount\": 250.5\n",
        "    }\n",
        "]\n",
        "print(\"Data Pesanan\")\n",
        "\n",
        "# lop for Item berurutan kebawah\n",
        "for pesanan in data_pesanan:\n",
        "    print(pesanan)"
      ],
      "metadata": {
        "colab": {
          "base_uri": "https://localhost:8080/"
        },
        "id": "JElvufNmBNZK",
        "outputId": "2e8325dd-674d-4e31-fb77-3f3803724016"
      },
      "execution_count": null,
      "outputs": [
        {
          "output_type": "stream",
          "name": "stdout",
          "text": [
            "--- Data Pesanan ---\n",
            "{'Order ID': 'ORD001', 'Customer Name': 'yoan fitria', 'Order Date': '2025-07-06', 'Total Amount': 150.0}\n",
            "{'Order ID': 'ORD002', 'Customer Name': 'AMIRA PUTRI', 'Order Date': '2025-07-07', 'Total Amount': 250.5}\n"
          ]
        }
      ]
    },
    {
      "cell_type": "code",
      "source": [
        "# Task 1\n",
        "# Data pesanan\n",
        "data_pesanan = [\n",
        "    {\n",
        "        \"Order ID\": \"ORD001\",\n",
        "        \"Customer Name\": \"yoan fitria\",\n",
        "        \"Order Date\": \"2025-07-06\",\n",
        "        \"Total Amount\": 150.0\n",
        "    },\n",
        "    {\n",
        "        \"Order ID\": \"ORD002\",\n",
        "        \"Customer Name\": \"AMIRA PUTRI\",\n",
        "        \"Order Date\": \"2025-07-07\",\n",
        "        \"Total Amount\": 250.5\n",
        "    }\n",
        "]\n",
        "\n",
        "# Format nama\n",
        "def transformasi_pesanan(data):\n",
        "    hasil = []\n",
        "    for pesanan in data_pesanan:\n",
        "        pesanan_baru = pesanan.copy()\n",
        "        pesanan_baru[\"Customer Name\"] = pesanan_baru[\"Customer Name\"].title()\n",
        "        hasil.append(pesanan_baru)\n",
        "    return hasil\n",
        "\n",
        "# Proses data\n",
        "hasil_transformasi = transformasi_pesanan(data_pesanan)\n",
        "\n",
        "# Tampilkan hasil\n",
        "for pesanan in hasil_transformasi:\n",
        "    print(pesanan)"
      ],
      "metadata": {
        "colab": {
          "base_uri": "https://localhost:8080/"
        },
        "id": "2b8uphATBVGe",
        "outputId": "aef6b361-ea80-4228-80d7-edf9548b508b"
      },
      "execution_count": null,
      "outputs": [
        {
          "output_type": "stream",
          "name": "stdout",
          "text": [
            "{'Order ID': 'ORD001', 'Customer Name': 'Yoan Fitria', 'Order Date': '2025-07-06', 'Total Amount': 150.0}\n",
            "{'Order ID': 'ORD002', 'Customer Name': 'Amira Putri', 'Order Date': '2025-07-07', 'Total Amount': 250.5}\n"
          ]
        }
      ]
    },
    {
      "cell_type": "code",
      "source": [
        "# Task 2\n",
        "class Order:\n",
        "  def __init__(self, order_id, customer_name, order_date, total_amount):\n",
        "    self.order_id = order_id\n",
        "    self.customer_name = customer_name\n",
        "    self.order_date = order_date\n",
        "    self.total_amount = total_amount\n",
        "\n",
        "  def calculate_tax(self, tax_rate):\n",
        "    return self.total_amount * tax_rate\n",
        "\n",
        "  def display_order(self):\n",
        "    print(\"Order ID:\", self.order_id)\n",
        "    print(\"Customer Name:\", self.customer_name)\n",
        "    print(\"Order Date\", self.order_date)\n",
        "    print(\"Total Amount: Rupiah{:.2f}\".format(self.total_amount))\n"
      ],
      "metadata": {
        "id": "zKPRvmE8Q9h3"
      },
      "execution_count": null,
      "outputs": []
    },
    {
      "cell_type": "code",
      "source": [
        "# Task 2\n",
        "class Order:\n",
        "  def __init__(self, order_id, customer_name, order_date, total_amount):\n",
        "    self.order_id = order_id\n",
        "    self.customer_name = customer_name\n",
        "    self.order_date = order_date\n",
        "    self.total_amount = total_amount\n",
        "\n",
        "  def calculate_tax(self, tax_rate):\n",
        "    return self.total_amount * tax_rate\n",
        "\n",
        "  def display_order(self):\n",
        "    print(\"Order ID:\", self.order_id)\n",
        "    print(\"Customer Name:\", self.customer_name)\n",
        "    print(\"Order Date\", self.order_date)\n",
        "    print(\"Total Amount: Rupiah{:.2f}\".format(self.total_amount))\n",
        "\n",
        "# menambah objek\n",
        "order1 = Order(\"ORD001\", \"Yoan Fitria\", \"2025-07-09\", 150.0)\n",
        "\n",
        "# pesanan\n",
        "order1.display_order()\n",
        "\n",
        "#pajak 10%\n",
        "tax = order1.calculate_tax(0.10)\n",
        "print(\"Tax (10%): Rupiah{:.2f}\".format(tax))\n"
      ],
      "metadata": {
        "colab": {
          "base_uri": "https://localhost:8080/"
        },
        "id": "LsCYhXlF-mN5",
        "outputId": "a1973d01-a422-4517-dc47-496805272439"
      },
      "execution_count": null,
      "outputs": [
        {
          "output_type": "stream",
          "name": "stdout",
          "text": [
            "Order ID: ORD001\n",
            "Customer Name: Yoan Fitria\n",
            "Order Date 2025-07-09\n",
            "Total Amount: Rupiah150.00\n",
            "Tax (10%): Rupiah15.00\n"
          ]
        }
      ]
    },
    {
      "cell_type": "code",
      "source": [
        "# Task 3\n",
        "class OrderProcessor:\n",
        "    def __init__(self):\n",
        "        # List kosong menyimpan pesanan\n",
        "        self.orders = []\n",
        "\n",
        "    def add_order(self, order):\n",
        "        # Pesanan masuk list\n",
        "        self.orders.append(order)\n",
        "\n",
        "    def calculate_total_revenue(self):\n",
        "        # Total pendapatan semua pesanan\n",
        "        total_revenue = 0\n",
        "        for order in self.orders:\n",
        "            total_revenue += order['price'] * order['quantity']\n",
        "        return total_revenue\n",
        "\n",
        "    def calculate_total_tax(self, tax_rate):\n",
        "        # Total pajak berdasarkan tarif pajak\n",
        "        total_tax = 0\n",
        "        for order in self.orders:\n",
        "            total_tax += (order['price'] * order['quantity']) * tax_rate\n",
        "        return total_tax\n",
        "\n",
        "    def display_orders(self):\n",
        "        # Rincian semua pesanan\n",
        "        print(\"Daftar Pesanan:\")\n",
        "        for order in self.orders:\n",
        "            print(f\"- {order['item']} | Jumlah: {order['quantity']} | Harga: {order['price']}\")\n"
      ],
      "metadata": {
        "id": "rnEQ8AsT76MV"
      },
      "execution_count": null,
      "outputs": []
    },
    {
      "cell_type": "code",
      "source": [
        "# Task 3\n",
        "class OrderProcessor:\n",
        "    def __init__(self):\n",
        "        # List kosong menyimpan pesanan\n",
        "        self.orders = []\n",
        "\n",
        "    def add_order(self, order):\n",
        "        # Pesanan masuk list\n",
        "        self.orders.append(order)\n",
        "\n",
        "    def calculate_total_revenue(self):\n",
        "        # Total pendapatan semua pesanan\n",
        "        total_revenue = 0\n",
        "        for order in self.orders:\n",
        "            total_revenue += order['price'] * order['quantity']\n",
        "        return total_revenue\n",
        "\n",
        "    def calculate_total_tax(self, tax_rate):\n",
        "        # Total pajak berdasarkan tarif pajak\n",
        "        total_tax = 0\n",
        "        for order in self.orders:\n",
        "            total_tax += (order['price'] * order['quantity']) * tax_rate\n",
        "        return total_tax\n",
        "\n",
        "    def display_orders(self):\n",
        "        # Rincian semua pesanan\n",
        "        print(\"Daftar Pesanan:\")\n",
        "        for order in self.orders:\n",
        "            print(f\"- {order['item']} | Jumlah: {order['quantity']} | Harga: {order['price']}\")\n",
        "\n",
        "# Task 4\n",
        "if __name__ == \"__main__\":\n",
        "    # Objek processor\n",
        "    processor = OrderProcessor()\n",
        "\n",
        "    # List pesanan\n",
        "    order1 = {'item': 'Kopi', 'quantity': 2, 'price': 15000}\n",
        "    order2 = {'item': 'Roti Bakar', 'quantity': 3, 'price': 10000}\n",
        "    order3 = {'item': 'Teh Manis', 'quantity': 1, 'price': 8000}\n",
        "\n",
        "    # Add to processor\n",
        "    processor.add_order(order1)\n",
        "    processor.add_order(order2)\n",
        "    processor.add_order(order3)\n",
        "\n",
        "    # Display list pesanan\n",
        "    processor.display_orders()\n",
        "\n",
        "    # Total and interest\n",
        "    total = processor.calculate_total_revenue()\n",
        "    pajak = processor.calculate_total_tax(0.1)  # Asumsi pajak 10%\n",
        "\n",
        "    print(\"\\n=== Ringkasan ===\")\n",
        "    print(f\"Total Pendapatan: Rp{total:,}\")\n",
        "    print(f\"Total Pajak (10%): Rp{pajak:,}\")\n"
      ],
      "metadata": {
        "colab": {
          "base_uri": "https://localhost:8080/"
        },
        "id": "we7ekG6ZB8i0",
        "outputId": "2b110331-d4bb-49b1-de06-c59df599d25d"
      },
      "execution_count": null,
      "outputs": [
        {
          "output_type": "stream",
          "name": "stdout",
          "text": [
            "Daftar Pesanan:\n",
            "- Kopi | Jumlah: 2 | Harga: 15000\n",
            "- Roti Bakar | Jumlah: 3 | Harga: 10000\n",
            "- Teh Manis | Jumlah: 1 | Harga: 8000\n",
            "\n",
            "=== Ringkasan ===\n",
            "Total Pendapatan: Rp68,000\n",
            "Total Pajak (10%): Rp6,800.0\n"
          ]
        }
      ]
    }
  ]
}